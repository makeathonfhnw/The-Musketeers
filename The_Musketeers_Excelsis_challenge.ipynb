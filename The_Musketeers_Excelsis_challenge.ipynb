{
 "cells": [
  {
   "cell_type": "code",
   "execution_count": 642,
   "id": "04ef5e4d-4a32-415c-91c6-35f1cc685f7d",
   "metadata": {},
   "outputs": [],
   "source": [
    "import pandas as pd\n",
    "import numpy as np\n",
    "import seaborn as sns\n",
    "import matplotlib.pyplot as plt\n",
    "%matplotlib inline\n",
    "import warnings\n",
    "warnings.filterwarnings('ignore')"
   ]
  },
  {
   "cell_type": "code",
   "execution_count": 643,
   "id": "8f90f92d-4557-4c43-abe6-311765715675",
   "metadata": {},
   "outputs": [
    {
     "name": "stdout",
     "output_type": "stream",
     "text": [
      "C:\\Users\\glisi\n"
     ]
    }
   ],
   "source": [
    "cd"
   ]
  },
  {
   "cell_type": "code",
   "execution_count": 644,
   "id": "f7efac79-a7b6-4c4f-8f2a-29e794d67780",
   "metadata": {},
   "outputs": [
    {
     "name": "stdout",
     "output_type": "stream",
     "text": [
      "C:\\Users\\glisi\\Desktop\\MakeAthon\n"
     ]
    }
   ],
   "source": [
    "cd \\Users\\glisi\\Desktop\\MakeAthon"
   ]
  },
  {
   "cell_type": "code",
   "execution_count": 645,
   "id": "4fb0dacb-ae7f-4723-8ae5-d9542dadad0b",
   "metadata": {},
   "outputs": [],
   "source": [
    "df = pd.read_csv('modellMitScore.csv', sep = ';')"
   ]
  },
  {
   "cell_type": "code",
   "execution_count": 646,
   "id": "909b5691-12e2-4108-9884-93774743f63e",
   "metadata": {},
   "outputs": [
    {
     "data": {
      "text/html": [
       "<div>\n",
       "<style scoped>\n",
       "    .dataframe tbody tr th:only-of-type {\n",
       "        vertical-align: middle;\n",
       "    }\n",
       "\n",
       "    .dataframe tbody tr th {\n",
       "        vertical-align: top;\n",
       "    }\n",
       "\n",
       "    .dataframe thead th {\n",
       "        text-align: right;\n",
       "    }\n",
       "</style>\n",
       "<table border=\"1\" class=\"dataframe\">\n",
       "  <thead>\n",
       "    <tr style=\"text-align: right;\">\n",
       "      <th></th>\n",
       "      <th>Alter</th>\n",
       "      <th>Zivilstand</th>\n",
       "      <th>Säule 3a</th>\n",
       "      <th>lebensversicherung</th>\n",
       "      <th>pensionskasse</th>\n",
       "      <th>totalVermoegen</th>\n",
       "      <th>totalLohn</th>\n",
       "      <th>schaetzungObjekt</th>\n",
       "      <th>score</th>\n",
       "    </tr>\n",
       "  </thead>\n",
       "  <tbody>\n",
       "    <tr>\n",
       "      <th>0</th>\n",
       "      <td>64</td>\n",
       "      <td>68</td>\n",
       "      <td>100000</td>\n",
       "      <td>0</td>\n",
       "      <td>109368.55690</td>\n",
       "      <td>372218.1055</td>\n",
       "      <td>68040.0000</td>\n",
       "      <td>5.079846e+05</td>\n",
       "      <td>75</td>\n",
       "    </tr>\n",
       "    <tr>\n",
       "      <th>1</th>\n",
       "      <td>72</td>\n",
       "      <td>51</td>\n",
       "      <td>130000</td>\n",
       "      <td>45000</td>\n",
       "      <td>207181.98360</td>\n",
       "      <td>638091.8683</td>\n",
       "      <td>109200.0000</td>\n",
       "      <td>7.126644e+05</td>\n",
       "      <td>85</td>\n",
       "    </tr>\n",
       "    <tr>\n",
       "      <th>2</th>\n",
       "      <td>82</td>\n",
       "      <td>63</td>\n",
       "      <td>130000</td>\n",
       "      <td>0</td>\n",
       "      <td>80878.81724</td>\n",
       "      <td>517075.4024</td>\n",
       "      <td>68040.0000</td>\n",
       "      <td>1.593039e+06</td>\n",
       "      <td>50</td>\n",
       "    </tr>\n",
       "    <tr>\n",
       "      <th>3</th>\n",
       "      <td>30</td>\n",
       "      <td>51</td>\n",
       "      <td>20000</td>\n",
       "      <td>0</td>\n",
       "      <td>200101.56730</td>\n",
       "      <td>557973.2439</td>\n",
       "      <td>171759.3893</td>\n",
       "      <td>1.088717e+06</td>\n",
       "      <td>75</td>\n",
       "    </tr>\n",
       "    <tr>\n",
       "      <th>4</th>\n",
       "      <td>87</td>\n",
       "      <td>51</td>\n",
       "      <td>130000</td>\n",
       "      <td>0</td>\n",
       "      <td>0.00000</td>\n",
       "      <td>418718.7791</td>\n",
       "      <td>109200.0000</td>\n",
       "      <td>5.413073e+05</td>\n",
       "      <td>90</td>\n",
       "    </tr>\n",
       "  </tbody>\n",
       "</table>\n",
       "</div>"
      ],
      "text/plain": [
       "   Alter  Zivilstand  Säule 3a  lebensversicherung  pensionskasse  \\\n",
       "0     64          68    100000                   0   109368.55690   \n",
       "1     72          51    130000               45000   207181.98360   \n",
       "2     82          63    130000                   0    80878.81724   \n",
       "3     30          51     20000                   0   200101.56730   \n",
       "4     87          51    130000                   0        0.00000   \n",
       "\n",
       "   totalVermoegen    totalLohn  schaetzungObjekt  score  \n",
       "0     372218.1055   68040.0000      5.079846e+05     75  \n",
       "1     638091.8683  109200.0000      7.126644e+05     85  \n",
       "2     517075.4024   68040.0000      1.593039e+06     50  \n",
       "3     557973.2439  171759.3893      1.088717e+06     75  \n",
       "4     418718.7791  109200.0000      5.413073e+05     90  "
      ]
     },
     "execution_count": 646,
     "metadata": {},
     "output_type": "execute_result"
    }
   ],
   "source": [
    "df.head()"
   ]
  },
  {
   "cell_type": "code",
   "execution_count": 647,
   "id": "7434f9fe-d353-4f21-b448-c62ba453205b",
   "metadata": {},
   "outputs": [
    {
     "data": {
      "text/plain": [
       "(1000, 9)"
      ]
     },
     "execution_count": 647,
     "metadata": {},
     "output_type": "execute_result"
    }
   ],
   "source": [
    "df.shape"
   ]
  },
  {
   "cell_type": "code",
   "execution_count": 648,
   "id": "9c0515a9-6c04-4e16-be31-703436f9e7c5",
   "metadata": {},
   "outputs": [
    {
     "data": {
      "text/plain": [
       "Index(['Alter', 'Zivilstand', 'Säule 3a', 'lebensversicherung',\n",
       "       'pensionskasse', 'totalVermoegen', 'totalLohn', 'schaetzungObjekt',\n",
       "       'score'],\n",
       "      dtype='object')"
      ]
     },
     "execution_count": 648,
     "metadata": {},
     "output_type": "execute_result"
    }
   ],
   "source": [
    "df.columns"
   ]
  },
  {
   "cell_type": "code",
   "execution_count": 649,
   "id": "b221a760-bcca-4446-b7be-1daf9a0b35f1",
   "metadata": {},
   "outputs": [
    {
     "data": {
      "text/plain": [
       "Alter                   int64\n",
       "Zivilstand              int64\n",
       "Säule 3a                int64\n",
       "lebensversicherung      int64\n",
       "pensionskasse         float64\n",
       "totalVermoegen        float64\n",
       "totalLohn             float64\n",
       "schaetzungObjekt      float64\n",
       "score                   int64\n",
       "dtype: object"
      ]
     },
     "execution_count": 649,
     "metadata": {},
     "output_type": "execute_result"
    }
   ],
   "source": [
    "df.dtypes"
   ]
  },
  {
   "cell_type": "code",
   "execution_count": 650,
   "id": "b3e0ca9a-77fd-4661-b86c-03510a43ff89",
   "metadata": {},
   "outputs": [
    {
     "data": {
      "text/plain": [
       "(1000, 9)"
      ]
     },
     "execution_count": 650,
     "metadata": {},
     "output_type": "execute_result"
    }
   ],
   "source": [
    "df.shape"
   ]
  },
  {
   "cell_type": "code",
   "execution_count": 651,
   "id": "53df781f-58b8-4a29-8d44-cbacddc76571",
   "metadata": {},
   "outputs": [
    {
     "data": {
      "text/plain": [
       "100    189\n",
       "35     129\n",
       "10     103\n",
       "5       83\n",
       "50      79\n",
       "40      67\n",
       "20      48\n",
       "90      41\n",
       "65      33\n",
       "75      31\n",
       "60      31\n",
       "70      30\n",
       "80      22\n",
       "85      20\n",
       "30      20\n",
       "55      20\n",
       "45      19\n",
       "95      17\n",
       "25      16\n",
       "0        2\n",
       "Name: score, dtype: int64"
      ]
     },
     "execution_count": 651,
     "metadata": {},
     "output_type": "execute_result"
    }
   ],
   "source": [
    "df['score'].value_counts()"
   ]
  },
  {
   "cell_type": "code",
   "execution_count": 652,
   "id": "e0258bf4-99fa-4370-b346-9ecbdc3753be",
   "metadata": {},
   "outputs": [
    {
     "data": {
      "text/plain": [
       "100    0.189\n",
       "35     0.129\n",
       "10     0.103\n",
       "5      0.083\n",
       "50     0.079\n",
       "40     0.067\n",
       "20     0.048\n",
       "90     0.041\n",
       "65     0.033\n",
       "75     0.031\n",
       "60     0.031\n",
       "70     0.030\n",
       "80     0.022\n",
       "85     0.020\n",
       "30     0.020\n",
       "55     0.020\n",
       "45     0.019\n",
       "95     0.017\n",
       "25     0.016\n",
       "0      0.002\n",
       "Name: score, dtype: float64"
      ]
     },
     "execution_count": 652,
     "metadata": {},
     "output_type": "execute_result"
    }
   ],
   "source": [
    "df['score'].value_counts(normalize=True) "
   ]
  },
  {
   "cell_type": "code",
   "execution_count": 653,
   "id": "aebf33a4-5c2c-4ed5-a29e-cc3f10877de5",
   "metadata": {},
   "outputs": [],
   "source": [
    "from sklearn.model_selection import train_test_split\n",
    "X = df.drop('score',axis=1)\n",
    "y = df[['score']]\n",
    "X_train, X_test, y_train, y_test = train_test_split(X, y, test_size = 0.3,random_state=42)"
   ]
  },
  {
   "cell_type": "code",
   "execution_count": 654,
   "id": "ef8bd0d6-31fa-403b-bb5a-26c8f29ade92",
   "metadata": {},
   "outputs": [
    {
     "name": "stdout",
     "output_type": "stream",
     "text": [
      "<class 'pandas.core.frame.DataFrame'>\n",
      "RangeIndex: 1000 entries, 0 to 999\n",
      "Data columns (total 9 columns):\n",
      " #   Column              Non-Null Count  Dtype  \n",
      "---  ------              --------------  -----  \n",
      " 0   Alter               1000 non-null   int64  \n",
      " 1   Zivilstand          1000 non-null   int64  \n",
      " 2   Säule 3a            1000 non-null   int64  \n",
      " 3   lebensversicherung  1000 non-null   int64  \n",
      " 4   pensionskasse       1000 non-null   float64\n",
      " 5   totalVermoegen      1000 non-null   float64\n",
      " 6   totalLohn           1000 non-null   float64\n",
      " 7   schaetzungObjekt    1000 non-null   float64\n",
      " 8   score               1000 non-null   int64  \n",
      "dtypes: float64(4), int64(5)\n",
      "memory usage: 70.4 KB\n"
     ]
    }
   ],
   "source": [
    "df.info()"
   ]
  },
  {
   "cell_type": "code",
   "execution_count": 655,
   "id": "ea76187e-72e6-423a-9dce-b603a70c4f0c",
   "metadata": {},
   "outputs": [],
   "source": [
    "target = list(df['score'].unique())\n",
    "feature_names = list(X.columns)"
   ]
  },
  {
   "cell_type": "code",
   "execution_count": 656,
   "id": "40bd431a-974d-4f03-93a0-24eb2e0aa215",
   "metadata": {},
   "outputs": [],
   "source": [
    "from sklearn import tree\n",
    "import graphviz"
   ]
  },
  {
   "cell_type": "code",
   "execution_count": 657,
   "id": "78377c54-b0be-4350-9ba6-1a11d74b67da",
   "metadata": {},
   "outputs": [
    {
     "data": {
      "text/plain": [
       "DecisionTreeClassifier(max_depth=3, min_samples_leaf=5, random_state=42)"
      ]
     },
     "execution_count": 657,
     "metadata": {},
     "output_type": "execute_result"
    }
   ],
   "source": [
    "from sklearn.tree import DecisionTreeClassifier\n",
    "clf_model = DecisionTreeClassifier(criterion=\"gini\", random_state=42,max_depth=3, min_samples_leaf=5)   \n",
    "clf_model.fit(X_train,y_train)"
   ]
  },
  {
   "cell_type": "code",
   "execution_count": 658,
   "id": "26e833e9-4720-40ad-83d8-a7a4e858970c",
   "metadata": {},
   "outputs": [],
   "source": [
    "y_predict = clf_model.predict(X_test)"
   ]
  },
  {
   "cell_type": "code",
   "execution_count": 659,
   "id": "6de92c17-9bdb-46b4-ad13-afec983d1e22",
   "metadata": {},
   "outputs": [
    {
     "data": {
      "text/plain": [
       "0.36"
      ]
     },
     "execution_count": 659,
     "metadata": {},
     "output_type": "execute_result"
    }
   ],
   "source": [
    "from sklearn.metrics import accuracy_score,classification_report,confusion_matrix\n",
    "accuracy_score(y_test,y_predict)"
   ]
  },
  {
   "cell_type": "code",
   "execution_count": 660,
   "id": "517eab45-89fa-4611-9210-46b44e40517e",
   "metadata": {},
   "outputs": [
    {
     "data": {
      "text/plain": [
       "(1000, 9)"
      ]
     },
     "execution_count": 660,
     "metadata": {},
     "output_type": "execute_result"
    }
   ],
   "source": [
    "df.shape"
   ]
  },
  {
   "cell_type": "code",
   "execution_count": 661,
   "id": "280c8f64-dad6-42fb-9888-0c55c443952a",
   "metadata": {},
   "outputs": [],
   "source": [
    "target = list(df['score'].unique())\n",
    "feature_names = list(X.columns)"
   ]
  },
  {
   "cell_type": "code",
   "execution_count": 662,
   "id": "5429d042-df98-4564-8798-e5ee33fe5c66",
   "metadata": {},
   "outputs": [
    {
     "name": "stdout",
     "output_type": "stream",
     "text": [
      "|--- schaetzungObjekt <= 405957.56\n",
      "|   |--- totalVermoegen <= 130660.19\n",
      "|   |   |--- schaetzungObjekt <= 109289.35\n",
      "|   |   |   |--- class: 100\n",
      "|   |   |--- schaetzungObjekt >  109289.35\n",
      "|   |   |   |--- class: 95\n",
      "|   |--- totalVermoegen >  130660.19\n",
      "|   |   |--- schaetzungObjekt <= 381674.89\n",
      "|   |   |   |--- class: 100\n",
      "|   |   |--- schaetzungObjekt >  381674.89\n",
      "|   |   |   |--- class: 100\n",
      "|--- schaetzungObjekt >  405957.56\n",
      "|   |--- totalVermoegen <= 154229.76\n",
      "|   |   |--- schaetzungObjekt <= 1421077.69\n",
      "|   |   |   |--- class: 40\n",
      "|   |   |--- schaetzungObjekt >  1421077.69\n",
      "|   |   |   |--- class: 35\n",
      "|   |--- totalVermoegen >  154229.76\n",
      "|   |   |--- schaetzungObjekt <= 1071424.75\n",
      "|   |   |   |--- class: 75\n",
      "|   |   |--- schaetzungObjekt >  1071424.75\n",
      "|   |   |   |--- class: 5\n",
      "\n"
     ]
    }
   ],
   "source": [
    "from sklearn.tree import export_text\n",
    "r = export_text(clf_model, feature_names=feature_names)\n",
    "print(r)"
   ]
  },
  {
   "cell_type": "code",
   "execution_count": 663,
   "id": "e933d951-53dd-4f3d-8b52-9ecff5430cdf",
   "metadata": {},
   "outputs": [],
   "source": [
    "from sklearn.model_selection import train_test_split\n",
    "X = df.drop('score',axis=1)\n",
    "y = df[['score']]\n",
    "X_train, X_test, y_train, y_test = train_test_split(X, y, train_size = 0.7,random_state=42)"
   ]
  },
  {
   "cell_type": "code",
   "execution_count": 664,
   "id": "107d2f55-2b34-42f9-81d1-bb8b373fee43",
   "metadata": {},
   "outputs": [],
   "source": [
    "target = list(df['score'].unique())\n",
    "feature_names = list(X.columns)"
   ]
  },
  {
   "cell_type": "code",
   "execution_count": 665,
   "id": "f6e31d3d-4ff4-4c7a-b170-583ce0756987",
   "metadata": {},
   "outputs": [],
   "source": [
    "from sklearn import tree\n",
    "import graphviz"
   ]
  },
  {
   "cell_type": "code",
   "execution_count": 666,
   "id": "f5e87d65-6443-4ac8-a4ab-d42a59de4536",
   "metadata": {},
   "outputs": [
    {
     "data": {
      "text/plain": [
       "DecisionTreeClassifier(ccp_alpha=0.0015, max_depth=20, min_samples_leaf=5,\n",
       "                       random_state=42)"
      ]
     },
     "execution_count": 666,
     "metadata": {},
     "output_type": "execute_result"
    }
   ],
   "source": [
    "from sklearn.tree import DecisionTreeClassifier\n",
    "clf_model = DecisionTreeClassifier(criterion=\"gini\", random_state=42,max_depth=20, min_samples_leaf=5, ccp_alpha=0.0015)   \n",
    "clf_model.fit(X_train,y_train)"
   ]
  },
  {
   "cell_type": "code",
   "execution_count": 667,
   "id": "1f155817-225e-4122-860c-774258d3947a",
   "metadata": {},
   "outputs": [],
   "source": [
    "y_predict = clf_model.predict(X_test)"
   ]
  },
  {
   "cell_type": "code",
   "execution_count": 668,
   "id": "78916d4a-0bde-43bf-9bff-b9966df2cd93",
   "metadata": {},
   "outputs": [
    {
     "data": {
      "text/plain": [
       "0.6333333333333333"
      ]
     },
     "execution_count": 668,
     "metadata": {},
     "output_type": "execute_result"
    }
   ],
   "source": [
    "from sklearn.metrics import accuracy_score,classification_report,confusion_matrix\n",
    "accuracy_score(y_test,y_predict)"
   ]
  },
  {
   "cell_type": "code",
   "execution_count": 669,
   "id": "360175e9",
   "metadata": {},
   "outputs": [
    {
     "data": {
      "text/plain": [
       "<AxesSubplot:>"
      ]
     },
     "execution_count": 669,
     "metadata": {},
     "output_type": "execute_result"
    },
    {
     "data": {
      "image/png": "[encoded data removed]",
      "text/plain": [
       "<Figure size 432x288 with 2 Axes>"
      ]
     },
     "metadata": {
      "needs_background": "light"
     },
     "output_type": "display_data"
    }
   ],
   "source": [
    "cfm = confusion_matrix(y_test, y_predict)\n",
    "sns.heatmap(cfm, annot=True)"
   ]
  },
  {
   "cell_type": "code",
   "execution_count": 670,
   "id": "480b00af-49fd-4280-b7ff-144e17223e95",
   "metadata": {},
   "outputs": [],
   "source": [
    "target = list(df['score'].unique())\n",
    "feature_names = list(X.columns)"
   ]
  },
  {
   "cell_type": "code",
   "execution_count": 671,
   "id": "84822480-ae05-405f-8547-32ddfa8cb79a",
   "metadata": {},
   "outputs": [
    {
     "name": "stdout",
     "output_type": "stream",
     "text": [
      "|--- schaetzungObjekt <= 405957.56\n",
      "|   |--- totalVermoegen <= 130660.19\n",
      "|   |   |--- schaetzungObjekt <= 109289.35\n",
      "|   |   |   |--- class: 100\n",
      "|   |   |--- schaetzungObjekt >  109289.35\n",
      "|   |   |   |--- schaetzungObjekt <= 377213.48\n",
      "|   |   |   |   |--- Alter <= 65.50\n",
      "|   |   |   |   |   |--- totalVermoegen <= 90883.04\n",
      "|   |   |   |   |   |   |--- class: 25\n",
      "|   |   |   |   |   |--- totalVermoegen >  90883.04\n",
      "|   |   |   |   |   |   |--- class: 95\n",
      "|   |   |   |   |--- Alter >  65.50\n",
      "|   |   |   |   |   |--- class: 40\n",
      "|   |   |   |--- schaetzungObjekt >  377213.48\n",
      "|   |   |   |   |--- class: 75\n",
      "|   |--- totalVermoegen >  130660.19\n",
      "|   |   |--- class: 100\n",
      "|--- schaetzungObjekt >  405957.56\n",
      "|   |--- totalVermoegen <= 154229.76\n",
      "|   |   |--- schaetzungObjekt <= 1421077.69\n",
      "|   |   |   |--- totalVermoegen <= 100665.95\n",
      "|   |   |   |   |--- totalLohn <= 53040.00\n",
      "|   |   |   |   |   |--- schaetzungObjekt <= 682928.78\n",
      "|   |   |   |   |   |   |--- class: 40\n",
      "|   |   |   |   |   |--- schaetzungObjekt >  682928.78\n",
      "|   |   |   |   |   |   |--- class: 35\n",
      "|   |   |   |   |--- totalLohn >  53040.00\n",
      "|   |   |   |   |   |--- schaetzungObjekt <= 792454.06\n",
      "|   |   |   |   |   |   |--- Alter <= 45.50\n",
      "|   |   |   |   |   |   |   |--- class: 10\n",
      "|   |   |   |   |   |   |--- Alter >  45.50\n",
      "|   |   |   |   |   |   |   |--- class: 50\n",
      "|   |   |   |   |   |--- schaetzungObjekt >  792454.06\n",
      "|   |   |   |   |   |   |--- totalLohn <= 108683.84\n",
      "|   |   |   |   |   |   |   |--- schaetzungObjekt <= 1119936.75\n",
      "|   |   |   |   |   |   |   |   |--- class: 40\n",
      "|   |   |   |   |   |   |   |--- schaetzungObjekt >  1119936.75\n",
      "|   |   |   |   |   |   |   |   |--- class: 35\n",
      "|   |   |   |   |   |   |--- totalLohn >  108683.84\n",
      "|   |   |   |   |   |   |   |--- class: 40\n",
      "|   |   |   |--- totalVermoegen >  100665.95\n",
      "|   |   |   |   |--- schaetzungObjekt <= 623246.06\n",
      "|   |   |   |   |   |--- totalLohn <= 88620.00\n",
      "|   |   |   |   |   |   |--- pensionskasse <= 12853.96\n",
      "|   |   |   |   |   |   |   |--- class: 65\n",
      "|   |   |   |   |   |   |--- pensionskasse >  12853.96\n",
      "|   |   |   |   |   |   |   |--- class: 25\n",
      "|   |   |   |   |   |--- totalLohn >  88620.00\n",
      "|   |   |   |   |   |   |--- class: 90\n",
      "|   |   |   |   |--- schaetzungObjekt >  623246.06\n",
      "|   |   |   |   |   |--- totalLohn <= 138374.83\n",
      "|   |   |   |   |   |   |--- totalVermoegen <= 108964.65\n",
      "|   |   |   |   |   |   |   |--- class: 20\n",
      "|   |   |   |   |   |   |--- totalVermoegen >  108964.65\n",
      "|   |   |   |   |   |   |   |--- Alter <= 76.00\n",
      "|   |   |   |   |   |   |   |   |--- totalLohn <= 88620.00\n",
      "|   |   |   |   |   |   |   |   |   |--- schaetzungObjekt <= 1058359.50\n",
      "|   |   |   |   |   |   |   |   |   |   |--- totalLohn <= 67620.00\n",
      "|   |   |   |   |   |   |   |   |   |   |   |--- class: 5\n",
      "|   |   |   |   |   |   |   |   |   |   |--- totalLohn >  67620.00\n",
      "|   |   |   |   |   |   |   |   |   |   |   |--- class: 10\n",
      "|   |   |   |   |   |   |   |   |   |--- schaetzungObjekt >  1058359.50\n",
      "|   |   |   |   |   |   |   |   |   |   |--- class: 5\n",
      "|   |   |   |   |   |   |   |   |--- totalLohn >  88620.00\n",
      "|   |   |   |   |   |   |   |   |   |--- class: 20\n",
      "|   |   |   |   |   |   |   |--- Alter >  76.00\n",
      "|   |   |   |   |   |   |   |   |--- class: 10\n",
      "|   |   |   |   |   |--- totalLohn >  138374.83\n",
      "|   |   |   |   |   |   |--- class: 40\n",
      "|   |   |--- schaetzungObjekt >  1421077.69\n",
      "|   |   |   |--- totalLohn <= 53040.00\n",
      "|   |   |   |   |--- class: 30\n",
      "|   |   |   |--- totalLohn >  53040.00\n",
      "|   |   |   |   |--- totalLohn <= 105445.72\n",
      "|   |   |   |   |   |--- class: 35\n",
      "|   |   |   |   |--- totalLohn >  105445.72\n",
      "|   |   |   |   |   |--- schaetzungObjekt <= 1813010.19\n",
      "|   |   |   |   |   |   |--- pensionskasse <= 16072.90\n",
      "|   |   |   |   |   |   |   |--- class: 40\n",
      "|   |   |   |   |   |   |--- pensionskasse >  16072.90\n",
      "|   |   |   |   |   |   |   |--- class: 40\n",
      "|   |   |   |   |   |--- schaetzungObjekt >  1813010.19\n",
      "|   |   |   |   |   |   |--- class: 35\n",
      "|   |--- totalVermoegen >  154229.76\n",
      "|   |   |--- schaetzungObjekt <= 1071424.75\n",
      "|   |   |   |--- schaetzungObjekt <= 727625.22\n",
      "|   |   |   |   |--- totalLohn <= 88620.00\n",
      "|   |   |   |   |   |--- schaetzungObjekt <= 517566.14\n",
      "|   |   |   |   |   |   |--- class: 75\n",
      "|   |   |   |   |   |--- schaetzungObjekt >  517566.14\n",
      "|   |   |   |   |   |   |--- class: 70\n",
      "|   |   |   |   |--- totalLohn >  88620.00\n",
      "|   |   |   |   |   |--- totalVermoegen <= 187024.99\n",
      "|   |   |   |   |   |   |--- schaetzungObjekt <= 619481.56\n",
      "|   |   |   |   |   |   |   |--- schaetzungObjekt <= 518777.22\n",
      "|   |   |   |   |   |   |   |   |--- class: 95\n",
      "|   |   |   |   |   |   |   |--- schaetzungObjekt >  518777.22\n",
      "|   |   |   |   |   |   |   |   |--- class: 80\n",
      "|   |   |   |   |   |   |--- schaetzungObjekt >  619481.56\n",
      "|   |   |   |   |   |   |   |--- class: 75\n",
      "|   |   |   |   |   |--- totalVermoegen >  187024.99\n",
      "|   |   |   |   |   |   |--- schaetzungObjekt <= 523348.14\n",
      "|   |   |   |   |   |   |   |--- class: 100\n",
      "|   |   |   |   |   |   |--- schaetzungObjekt >  523348.14\n",
      "|   |   |   |   |   |   |   |--- totalLohn <= 136142.97\n",
      "|   |   |   |   |   |   |   |   |--- schaetzungObjekt <= 605262.88\n",
      "|   |   |   |   |   |   |   |   |   |--- class: 90\n",
      "|   |   |   |   |   |   |   |   |--- schaetzungObjekt >  605262.88\n",
      "|   |   |   |   |   |   |   |   |   |--- class: 85\n",
      "|   |   |   |   |   |   |   |--- totalLohn >  136142.97\n",
      "|   |   |   |   |   |   |   |   |--- pensionskasse <= 105315.82\n",
      "|   |   |   |   |   |   |   |   |   |--- class: 95\n",
      "|   |   |   |   |   |   |   |   |--- pensionskasse >  105315.82\n",
      "|   |   |   |   |   |   |   |   |   |--- class: 100\n",
      "|   |   |   |--- schaetzungObjekt >  727625.22\n",
      "|   |   |   |   |--- totalLohn <= 88620.00\n",
      "|   |   |   |   |   |--- totalVermoegen <= 255151.55\n",
      "|   |   |   |   |   |   |--- class: 50\n",
      "|   |   |   |   |   |--- totalVermoegen >  255151.55\n",
      "|   |   |   |   |   |   |--- class: 55\n",
      "|   |   |   |   |--- totalLohn >  88620.00\n",
      "|   |   |   |   |   |--- schaetzungObjekt <= 914692.91\n",
      "|   |   |   |   |   |   |--- totalVermoegen <= 248514.68\n",
      "|   |   |   |   |   |   |   |--- schaetzungObjekt <= 865958.06\n",
      "|   |   |   |   |   |   |   |   |--- class: 65\n",
      "|   |   |   |   |   |   |   |--- schaetzungObjekt >  865958.06\n",
      "|   |   |   |   |   |   |   |   |--- class: 65\n",
      "|   |   |   |   |   |   |--- totalVermoegen >  248514.68\n",
      "|   |   |   |   |   |   |   |--- totalVermoegen <= 352714.69\n",
      "|   |   |   |   |   |   |   |   |--- lebensversicherung <= 27000.00\n",
      "|   |   |   |   |   |   |   |   |   |--- class: 70\n",
      "|   |   |   |   |   |   |   |   |--- lebensversicherung >  27000.00\n",
      "|   |   |   |   |   |   |   |   |   |--- class: 80\n",
      "|   |   |   |   |   |   |   |--- totalVermoegen >  352714.69\n",
      "|   |   |   |   |   |   |   |   |--- class: 75\n",
      "|   |   |   |   |   |--- schaetzungObjekt >  914692.91\n",
      "|   |   |   |   |   |   |--- totalLohn <= 133521.75\n",
      "|   |   |   |   |   |   |   |--- totalVermoegen <= 213192.07\n",
      "|   |   |   |   |   |   |   |   |--- class: 20\n",
      "|   |   |   |   |   |   |   |--- totalVermoegen >  213192.07\n",
      "|   |   |   |   |   |   |   |   |--- totalVermoegen <= 278092.84\n",
      "|   |   |   |   |   |   |   |   |   |--- class: 60\n",
      "|   |   |   |   |   |   |   |   |--- totalVermoegen >  278092.84\n",
      "|   |   |   |   |   |   |   |   |   |--- class: 65\n",
      "|   |   |   |   |   |   |--- totalLohn >  133521.75\n",
      "|   |   |   |   |   |   |   |--- class: 85\n",
      "|   |   |--- schaetzungObjekt >  1071424.75\n",
      "|   |   |   |--- totalLohn <= 103733.11\n",
      "|   |   |   |   |--- totalVermoegen <= 268829.70\n",
      "|   |   |   |   |   |--- schaetzungObjekt <= 1132612.81\n",
      "|   |   |   |   |   |   |--- class: 50\n",
      "|   |   |   |   |   |--- schaetzungObjekt >  1132612.81\n",
      "|   |   |   |   |   |   |--- schaetzungObjekt <= 1742351.06\n",
      "|   |   |   |   |   |   |   |--- class: 5\n",
      "|   |   |   |   |   |   |--- schaetzungObjekt >  1742351.06\n",
      "|   |   |   |   |   |   |   |--- totalVermoegen <= 176384.86\n",
      "|   |   |   |   |   |   |   |   |--- class: 30\n",
      "|   |   |   |   |   |   |   |--- totalVermoegen >  176384.86\n",
      "|   |   |   |   |   |   |   |   |--- class: 5\n",
      "|   |   |   |   |--- totalVermoegen >  268829.70\n",
      "|   |   |   |   |   |--- schaetzungObjekt <= 1562536.19\n",
      "|   |   |   |   |   |   |--- class: 45\n",
      "|   |   |   |   |   |--- schaetzungObjekt >  1562536.19\n",
      "|   |   |   |   |   |   |--- class: 5\n",
      "|   |   |   |--- totalLohn >  103733.11\n",
      "|   |   |   |   |--- totalVermoegen <= 298988.05\n",
      "|   |   |   |   |   |--- schaetzungObjekt <= 1819908.81\n",
      "|   |   |   |   |   |   |--- totalLohn <= 133238.68\n",
      "|   |   |   |   |   |   |   |--- schaetzungObjekt <= 1249660.31\n",
      "|   |   |   |   |   |   |   |   |--- class: 20\n",
      "|   |   |   |   |   |   |   |--- schaetzungObjekt >  1249660.31\n",
      "|   |   |   |   |   |   |   |   |--- class: 10\n",
      "|   |   |   |   |   |   |--- totalLohn >  133238.68\n",
      "|   |   |   |   |   |   |   |--- schaetzungObjekt <= 1317238.69\n",
      "|   |   |   |   |   |   |   |   |--- class: 25\n",
      "|   |   |   |   |   |   |   |--- schaetzungObjekt >  1317238.69\n",
      "|   |   |   |   |   |   |   |   |--- class: 20\n",
      "|   |   |   |   |   |--- schaetzungObjekt >  1819908.81\n",
      "|   |   |   |   |   |   |--- totalVermoegen <= 210499.71\n",
      "|   |   |   |   |   |   |   |--- class: 35\n",
      "|   |   |   |   |   |   |--- totalVermoegen >  210499.71\n",
      "|   |   |   |   |   |   |   |--- class: 5\n",
      "|   |   |   |   |--- totalVermoegen >  298988.05\n",
      "|   |   |   |   |   |--- schaetzungObjekt <= 1406582.00\n",
      "|   |   |   |   |   |   |--- totalVermoegen <= 377611.84\n",
      "|   |   |   |   |   |   |   |--- class: 50\n",
      "|   |   |   |   |   |   |--- totalVermoegen >  377611.84\n",
      "|   |   |   |   |   |   |   |--- Alter <= 67.00\n",
      "|   |   |   |   |   |   |   |   |--- class: 55\n",
      "|   |   |   |   |   |   |   |--- Alter >  67.00\n",
      "|   |   |   |   |   |   |   |   |--- class: 70\n",
      "|   |   |   |   |   |--- schaetzungObjekt >  1406582.00\n",
      "|   |   |   |   |   |   |--- totalVermoegen <= 353024.12\n",
      "|   |   |   |   |   |   |   |--- class: 5\n",
      "|   |   |   |   |   |   |--- totalVermoegen >  353024.12\n",
      "|   |   |   |   |   |   |   |--- pensionskasse <= 282963.59\n",
      "|   |   |   |   |   |   |   |   |--- class: 50\n",
      "|   |   |   |   |   |   |   |--- pensionskasse >  282963.59\n",
      "|   |   |   |   |   |   |   |   |--- Alter <= 66.00\n",
      "|   |   |   |   |   |   |   |   |   |--- class: 50\n",
      "|   |   |   |   |   |   |   |   |--- Alter >  66.00\n",
      "|   |   |   |   |   |   |   |   |   |--- class: 60\n",
      "\n"
     ]
    }
   ],
   "source": [
    "from sklearn.tree import export_text\n",
    "r = export_text(clf_model, feature_names=feature_names)\n",
    "print(r)"
   ]
  },
  {
   "cell_type": "code",
   "execution_count": 672,
   "id": "5a15af8b-14bd-4ae2-80ff-e14133b7d08b",
   "metadata": {},
   "outputs": [
    {
     "data": {
      "text/plain": [
       "LogisticRegression()"
      ]
     },
     "execution_count": 672,
     "metadata": {},
     "output_type": "execute_result"
    }
   ],
   "source": [
    "from sklearn.linear_model import LogisticRegression\n",
    "from sklearn.metrics import accuracy_score\n",
    "model = LogisticRegression()\n",
    "model.fit(X_train, y_train)"
   ]
  },
  {
   "cell_type": "code",
   "execution_count": 673,
   "id": "4a1e1653-678c-42fb-90b2-4f0ad47f35c8",
   "metadata": {},
   "outputs": [
    {
     "data": {
      "text/plain": [
       "0.5866666666666667"
      ]
     },
     "execution_count": 673,
     "metadata": {},
     "output_type": "execute_result"
    }
   ],
   "source": [
    "pred_cv = model.predict(X_test)\n",
    "accuracy_score(y_test,pred_cv)"
   ]
  },
  {
   "cell_type": "code",
   "execution_count": 674,
   "id": "77db4008",
   "metadata": {},
   "outputs": [
    {
     "data": {
      "text/plain": [
       "array([[ 1.26976117e-01,  1.03363423e-01, -4.49593938e-05,\n",
       "        -9.92581048e-06, -5.41262274e-06,  4.05277073e-05,\n",
       "         1.46313506e-04, -4.16991078e-05]])"
      ]
     },
     "execution_count": 674,
     "metadata": {},
     "output_type": "execute_result"
    }
   ],
   "source": [
    "from sklearn.linear_model import LinearRegression\n",
    "model_reg = LinearRegression()\n",
    "reg = model_reg.fit(X_train, y_train)\n",
    "reg.coef_"
   ]
  },
  {
   "cell_type": "code",
   "execution_count": 675,
   "id": "077bb097",
   "metadata": {},
   "outputs": [],
   "source": [
    "X = df.drop('score',1)\n",
    "y = df.score"
   ]
  },
  {
   "cell_type": "code",
   "execution_count": 676,
   "id": "f9e5cd85",
   "metadata": {},
   "outputs": [],
   "source": [
    "X = pd.get_dummies(X)\n",
    "train=pd.get_dummies(df)\n",
    "test=pd.get_dummies(df)"
   ]
  },
  {
   "cell_type": "code",
   "execution_count": 677,
   "id": "86c8559b",
   "metadata": {},
   "outputs": [
    {
     "data": {
      "text/html": [
       "<div>\n",
       "<style scoped>\n",
       "    .dataframe tbody tr th:only-of-type {\n",
       "        vertical-align: middle;\n",
       "    }\n",
       "\n",
       "    .dataframe tbody tr th {\n",
       "        vertical-align: top;\n",
       "    }\n",
       "\n",
       "    .dataframe thead th {\n",
       "        text-align: right;\n",
       "    }\n",
       "</style>\n",
       "<table border=\"1\" class=\"dataframe\">\n",
       "  <thead>\n",
       "    <tr style=\"text-align: right;\">\n",
       "      <th></th>\n",
       "      <th>Alter</th>\n",
       "      <th>Zivilstand</th>\n",
       "      <th>Säule 3a</th>\n",
       "      <th>lebensversicherung</th>\n",
       "      <th>pensionskasse</th>\n",
       "      <th>totalVermoegen</th>\n",
       "      <th>totalLohn</th>\n",
       "      <th>schaetzungObjekt</th>\n",
       "      <th>Eligible</th>\n",
       "    </tr>\n",
       "  </thead>\n",
       "  <tbody>\n",
       "    <tr>\n",
       "      <th>0</th>\n",
       "      <td>64</td>\n",
       "      <td>68</td>\n",
       "      <td>100000</td>\n",
       "      <td>0</td>\n",
       "      <td>109368.55690</td>\n",
       "      <td>372218.1055</td>\n",
       "      <td>68040.0000</td>\n",
       "      <td>5.079846e+05</td>\n",
       "      <td>1</td>\n",
       "    </tr>\n",
       "    <tr>\n",
       "      <th>1</th>\n",
       "      <td>72</td>\n",
       "      <td>51</td>\n",
       "      <td>130000</td>\n",
       "      <td>45000</td>\n",
       "      <td>207181.98360</td>\n",
       "      <td>638091.8683</td>\n",
       "      <td>109200.0000</td>\n",
       "      <td>7.126644e+05</td>\n",
       "      <td>1</td>\n",
       "    </tr>\n",
       "    <tr>\n",
       "      <th>2</th>\n",
       "      <td>82</td>\n",
       "      <td>63</td>\n",
       "      <td>130000</td>\n",
       "      <td>0</td>\n",
       "      <td>80878.81724</td>\n",
       "      <td>517075.4024</td>\n",
       "      <td>68040.0000</td>\n",
       "      <td>1.593039e+06</td>\n",
       "      <td>0</td>\n",
       "    </tr>\n",
       "    <tr>\n",
       "      <th>3</th>\n",
       "      <td>30</td>\n",
       "      <td>51</td>\n",
       "      <td>20000</td>\n",
       "      <td>0</td>\n",
       "      <td>200101.56730</td>\n",
       "      <td>557973.2439</td>\n",
       "      <td>171759.3893</td>\n",
       "      <td>1.088717e+06</td>\n",
       "      <td>1</td>\n",
       "    </tr>\n",
       "    <tr>\n",
       "      <th>4</th>\n",
       "      <td>87</td>\n",
       "      <td>51</td>\n",
       "      <td>130000</td>\n",
       "      <td>0</td>\n",
       "      <td>0.00000</td>\n",
       "      <td>418718.7791</td>\n",
       "      <td>109200.0000</td>\n",
       "      <td>5.413073e+05</td>\n",
       "      <td>1</td>\n",
       "    </tr>\n",
       "  </tbody>\n",
       "</table>\n",
       "</div>"
      ],
      "text/plain": [
       "   Alter  Zivilstand  Säule 3a  lebensversicherung  pensionskasse  \\\n",
       "0     64          68    100000                   0   109368.55690   \n",
       "1     72          51    130000               45000   207181.98360   \n",
       "2     82          63    130000                   0    80878.81724   \n",
       "3     30          51     20000                   0   200101.56730   \n",
       "4     87          51    130000                   0        0.00000   \n",
       "\n",
       "   totalVermoegen    totalLohn  schaetzungObjekt  Eligible  \n",
       "0     372218.1055   68040.0000      5.079846e+05         1  \n",
       "1     638091.8683  109200.0000      7.126644e+05         1  \n",
       "2     517075.4024   68040.0000      1.593039e+06         0  \n",
       "3     557973.2439  171759.3893      1.088717e+06         1  \n",
       "4     418718.7791  109200.0000      5.413073e+05         1  "
      ]
     },
     "execution_count": 677,
     "metadata": {},
     "output_type": "execute_result"
    }
   ],
   "source": [
    "eb = pd.read_csv('revisedModelWithEligibility.csv', sep = ';')\n",
    "eb.head()"
   ]
  },
  {
   "cell_type": "code",
   "execution_count": 678,
   "id": "baa6f435",
   "metadata": {},
   "outputs": [
    {
     "data": {
      "text/plain": [
       "(1000, 9)"
      ]
     },
     "execution_count": 678,
     "metadata": {},
     "output_type": "execute_result"
    }
   ],
   "source": [
    "eb.shape"
   ]
  },
  {
   "cell_type": "code",
   "execution_count": 679,
   "id": "ae85b0a0",
   "metadata": {},
   "outputs": [],
   "source": [
    "from sklearn.model_selection import train_test_split\n",
    "X = eb.drop('Eligible',axis=1)\n",
    "y = eb[['Eligible']]\n",
    "X_train, X_test, y_train, y_test = train_test_split(X, y, test_size = 0.3,random_state=42)"
   ]
  },
  {
   "cell_type": "code",
   "execution_count": 680,
   "id": "ec32eddf",
   "metadata": {},
   "outputs": [],
   "source": [
    "target = list(eb['Eligible'].unique())\n",
    "feature_names = list(X.columns)"
   ]
  },
  {
   "cell_type": "code",
   "execution_count": 681,
   "id": "4effdc97",
   "metadata": {},
   "outputs": [],
   "source": [
    "from sklearn import tree\n",
    "import graphviz"
   ]
  },
  {
   "cell_type": "code",
   "execution_count": 682,
   "id": "ab0989e0",
   "metadata": {},
   "outputs": [
    {
     "data": {
      "text/plain": [
       "DecisionTreeClassifier(ccp_alpha=0.0015, max_depth=15, min_samples_leaf=5,\n",
       "                       random_state=42)"
      ]
     },
     "execution_count": 682,
     "metadata": {},
     "output_type": "execute_result"
    }
   ],
   "source": [
    "from sklearn.tree import DecisionTreeClassifier\n",
    "clf_model = DecisionTreeClassifier(criterion=\"gini\", random_state=42,max_depth=15, min_samples_leaf=5, ccp_alpha=0.0015)   \n",
    "clf_model.fit(X_train,y_train)"
   ]
  },
  {
   "cell_type": "code",
   "execution_count": 683,
   "id": "95aaa116",
   "metadata": {},
   "outputs": [],
   "source": [
    "y_predict = clf_model.predict(X_test)"
   ]
  },
  {
   "cell_type": "code",
   "execution_count": 684,
   "id": "c6c0bf2e",
   "metadata": {},
   "outputs": [
    {
     "data": {
      "text/plain": [
       "0.9633333333333334"
      ]
     },
     "execution_count": 684,
     "metadata": {},
     "output_type": "execute_result"
    }
   ],
   "source": [
    "from sklearn.metrics import accuracy_score,classification_report,confusion_matrix\n",
    "accuracy_score(y_test,y_predict)"
   ]
  },
  {
   "cell_type": "code",
   "execution_count": 685,
   "id": "2bf6108e",
   "metadata": {},
   "outputs": [
    {
     "name": "stdout",
     "output_type": "stream",
     "text": [
      "|--- schaetzungObjekt <= 779312.59\n",
      "|   |--- totalVermoegen <= 113302.62\n",
      "|   |   |--- schaetzungObjekt <= 408866.58\n",
      "|   |   |   |--- totalVermoegen <= 58558.31\n",
      "|   |   |   |   |--- schaetzungObjekt <= 170880.79\n",
      "|   |   |   |   |   |--- class: 1\n",
      "|   |   |   |   |--- schaetzungObjekt >  170880.79\n",
      "|   |   |   |   |   |--- class: 0\n",
      "|   |   |   |--- totalVermoegen >  58558.31\n",
      "|   |   |   |   |--- class: 1\n",
      "|   |   |--- schaetzungObjekt >  408866.58\n",
      "|   |   |   |--- pensionskasse <= 2349.25\n",
      "|   |   |   |   |--- class: 0\n",
      "|   |   |   |--- pensionskasse >  2349.25\n",
      "|   |   |   |   |--- class: 0\n",
      "|   |--- totalVermoegen >  113302.62\n",
      "|   |   |--- schaetzungObjekt <= 663806.09\n",
      "|   |   |   |--- class: 1\n",
      "|   |   |--- schaetzungObjekt >  663806.09\n",
      "|   |   |   |--- totalVermoegen <= 146867.59\n",
      "|   |   |   |   |--- class: 0\n",
      "|   |   |   |--- totalVermoegen >  146867.59\n",
      "|   |   |   |   |--- totalLohn <= 88620.00\n",
      "|   |   |   |   |   |--- class: 1\n",
      "|   |   |   |   |--- totalLohn >  88620.00\n",
      "|   |   |   |   |   |--- class: 1\n",
      "|--- schaetzungObjekt >  779312.59\n",
      "|   |--- schaetzungObjekt <= 1047316.19\n",
      "|   |   |--- totalVermoegen <= 178348.69\n",
      "|   |   |   |--- class: 0\n",
      "|   |   |--- totalVermoegen >  178348.69\n",
      "|   |   |   |--- totalLohn <= 88620.00\n",
      "|   |   |   |   |--- class: 0\n",
      "|   |   |   |--- totalLohn >  88620.00\n",
      "|   |   |   |   |--- class: 1\n",
      "|   |--- schaetzungObjekt >  1047316.19\n",
      "|   |   |--- totalVermoegen <= 340957.86\n",
      "|   |   |   |--- lebensversicherung <= 79500.00\n",
      "|   |   |   |   |--- class: 0\n",
      "|   |   |   |--- lebensversicherung >  79500.00\n",
      "|   |   |   |   |--- class: 0\n",
      "|   |   |--- totalVermoegen >  340957.86\n",
      "|   |   |   |--- totalLohn <= 133465.41\n",
      "|   |   |   |   |--- schaetzungObjekt <= 1621810.00\n",
      "|   |   |   |   |   |--- pensionskasse <= 268560.94\n",
      "|   |   |   |   |   |   |--- class: 0\n",
      "|   |   |   |   |   |--- pensionskasse >  268560.94\n",
      "|   |   |   |   |   |   |--- class: 1\n",
      "|   |   |   |   |--- schaetzungObjekt >  1621810.00\n",
      "|   |   |   |   |   |--- class: 0\n",
      "|   |   |   |--- totalLohn >  133465.41\n",
      "|   |   |   |   |--- schaetzungObjekt <= 1666896.38\n",
      "|   |   |   |   |   |--- class: 1\n",
      "|   |   |   |   |--- schaetzungObjekt >  1666896.38\n",
      "|   |   |   |   |   |--- class: 0\n",
      "\n"
     ]
    }
   ],
   "source": [
    "from sklearn.tree import export_text\n",
    "r = export_text(clf_model, feature_names=feature_names)\n",
    "print(r)"
   ]
  },
  {
   "cell_type": "code",
   "execution_count": 686,
   "id": "ef0ccec2",
   "metadata": {},
   "outputs": [
    {
     "data": {
      "text/plain": [
       "<AxesSubplot:>"
      ]
     },
     "execution_count": 686,
     "metadata": {},
     "output_type": "execute_result"
    },
    {
     "data": {
      "image/png": "[encoded data removed]",
      "text/plain": [
       "<Figure size 432x288 with 2 Axes>"
      ]
     },
     "metadata": {
      "needs_background": "light"
     },
     "output_type": "display_data"
    }
   ],
   "source": [
    "cfm = confusion_matrix(y_test, y_predict)\n",
    "sns.heatmap(cfm, annot=True)"
   ]
  },
  {
   "cell_type": "code",
   "execution_count": 687,
   "id": "81404328",
   "metadata": {},
   "outputs": [],
   "source": [
    "from sklearn.linear_model import LinearRegression\n"
   ]
  },
  {
   "cell_type": "code",
   "execution_count": 688,
   "id": "e343bf6c",
   "metadata": {},
   "outputs": [
    {
     "data": {
      "text/plain": [
       "LogisticRegression()"
      ]
     },
     "execution_count": 688,
     "metadata": {},
     "output_type": "execute_result"
    }
   ],
   "source": [
    "from sklearn.linear_model import LogisticRegression\n",
    "from sklearn.metrics import accuracy_score\n",
    "model = LogisticRegression()\n",
    "model.fit(X_train, y_train)"
   ]
  },
  {
   "cell_type": "code",
   "execution_count": 689,
   "id": "d6e157ba",
   "metadata": {},
   "outputs": [
    {
     "data": {
      "text/plain": [
       "0.96"
      ]
     },
     "execution_count": 689,
     "metadata": {},
     "output_type": "execute_result"
    }
   ],
   "source": [
    "pred_cv = model.predict(X_test)\n",
    "accuracy_score(y_test,pred_cv)"
   ]
  },
  {
   "cell_type": "code",
   "execution_count": 690,
   "id": "1b08a546",
   "metadata": {},
   "outputs": [
    {
     "data": {
      "text/plain": [
       "array([[ 1.18056742e-03,  3.44135875e-04, -3.49413125e-07,\n",
       "         6.50491936e-07, -6.72610837e-07,  1.08407194e-06,\n",
       "         1.86517704e-06, -6.07890621e-07]])"
      ]
     },
     "execution_count": 690,
     "metadata": {},
     "output_type": "execute_result"
    }
   ],
   "source": [
    "from sklearn.linear_model import LinearRegression\n",
    "model_reg = LinearRegression()\n",
    "reg = model_reg.fit(X_train, y_train)\n",
    "reg.coef_"
   ]
  },
  {
   "cell_type": "code",
   "execution_count": null,
   "id": "705c6048",
   "metadata": {},
   "outputs": [],
   "source": []
  }
 ],
 "metadata": {
  "kernelspec": {
   "display_name": "Python 3 (ipykernel)",
   "language": "python",
   "name": "python3"
  },
  "language_info": {
   "codemirror_mode": {
    "name": "ipython",
    "version": 3
   },
   "file_extension": ".py",
   "mimetype": "text/x-python",
   "name": "python",
   "nbconvert_exporter": "python",
   "pygments_lexer": "ipython3",
   "version": "3.9.12"
  }
 },
 "nbformat": 4,
 "nbformat_minor": 5
}
